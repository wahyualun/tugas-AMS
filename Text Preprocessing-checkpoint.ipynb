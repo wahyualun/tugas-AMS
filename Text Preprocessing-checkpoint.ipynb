{
 "cells": [
  {
   "cell_type": "code",
   "execution_count": 1,
   "id": "62f9be34",
   "metadata": {},
   "outputs": [
    {
     "name": "stdout",
     "output_type": "stream",
     "text": [
      "Requirement already satisfied: tweepy in c:\\users\\rog strix\\anaconda3\\lib\\site-packages (4.10.1)\n",
      "Requirement already satisfied: oauthlib<4,>=3.2.0 in c:\\users\\rog strix\\anaconda3\\lib\\site-packages (from tweepy) (3.2.1)\n",
      "Requirement already satisfied: requests<3,>=2.27.0 in c:\\users\\rog strix\\anaconda3\\lib\\site-packages (from tweepy) (2.27.1)\n",
      "Requirement already satisfied: requests-oauthlib<2,>=1.2.0 in c:\\users\\rog strix\\anaconda3\\lib\\site-packages (from tweepy) (1.3.1)\n",
      "Requirement already satisfied: idna<4,>=2.5 in c:\\users\\rog strix\\anaconda3\\lib\\site-packages (from requests<3,>=2.27.0->tweepy) (3.3)\n",
      "Requirement already satisfied: urllib3<1.27,>=1.21.1 in c:\\users\\rog strix\\anaconda3\\lib\\site-packages (from requests<3,>=2.27.0->tweepy) (1.26.9)\n",
      "Requirement already satisfied: charset-normalizer~=2.0.0 in c:\\users\\rog strix\\anaconda3\\lib\\site-packages (from requests<3,>=2.27.0->tweepy) (2.0.4)\n",
      "Requirement already satisfied: certifi>=2017.4.17 in c:\\users\\rog strix\\anaconda3\\lib\\site-packages (from requests<3,>=2.27.0->tweepy) (2021.10.8)\n",
      "Note: you may need to restart the kernel to use updated packages.\n"
     ]
    }
   ],
   "source": [
    "pip install tweepy"
   ]
  },
  {
   "cell_type": "code",
   "execution_count": 2,
   "id": "4713ed48",
   "metadata": {},
   "outputs": [],
   "source": [
    "import pandas as pd\n",
    "import time\n",
    "import tweepy\n",
    "import numpy as np"
   ]
  },
  {
   "cell_type": "code",
   "execution_count": 7,
   "id": "b4a597b9",
   "metadata": {},
   "outputs": [],
   "source": [
    "def twitter_config():\n",
    "    \"\"\"\n",
    "    Fungsi utilitas untuk mengkonfigurasi konsumsi file API Twitter dengan␣\n",
    "    ,!kunci yang disediakan.\n",
    "    \"\"\"\n",
    "    # Otentikasi dan akses menggunakan kunci:\n",
    "    auth = tweepy.OAuthHandler(\"jLtSVKCpN3OkXQEuaN8dRdM3i\",\n",
    "    \"XQlidZPeN58tLq5RR0lfe5d3ZovfMulCmn9v3DNuVHglZNsYfX\")\n",
    "    auth.set_access_token(\"1579439519627345920-H2bZxSzIy39ONXmde6rQBY8OaStZbv\",\n",
    "    \"rY7KY6SUsWGiRn1ol19nb5qsc9e8t5SSQJxqZzFrZwDTg\")\n",
    "    # Kembalikan akses ke API:\n",
    "    api = tweepy.API(auth)\n",
    "    try:\n",
    "        api.verify_credentials()\n",
    "        print(\"Authentication OK\")\n",
    "    except:\n",
    "        print(\"Error during authentication\")\n",
    "    return api"
   ]
  },
  {
   "cell_type": "code",
   "execution_count": 8,
   "id": "d0b2f867",
   "metadata": {},
   "outputs": [
    {
     "name": "stdout",
     "output_type": "stream",
     "text": [
      "Authentication OK\n"
     ]
    }
   ],
   "source": [
    "# buat extractor object\n",
    "extractor = twitter_config()"
   ]
  },
  {
   "cell_type": "code",
   "execution_count": 21,
   "id": "16b3b04b",
   "metadata": {},
   "outputs": [
    {
     "name": "stdout",
     "output_type": "stream",
     "text": [
      "Tweets terambil: 195.\n",
      "\n",
      "5 tweet teratas:\n",
      "\n",
      "@_jayphelps I often type “copy(“ +paste +”)”\n",
      "\n",
      "@chenosaurus @skilldrick @mrdonut Looking for the opposite really. Lines of code, no distractions.\n",
      "\n",
      "I have the boy at home today. Can anyone recommend a good online course for an 11yr old that teaching actual progra… https://t.co/gCFNo3T5aq\n",
      "\n",
      "@samuelmaskell It has to come back at some point or there’s no reason my clunky house near SF has any value whatsoever.\n",
      "\n",
      "@petefrasermusic That’s because sending alcohol to Sweden is hard. I usually send scotch to everyone else.\n",
      "\n",
      "And a shower in the office so I can go for a lunchtime run. And a pool. And … ok, I’m getting carried away. \n",
      "Workin… https://t.co/67GXo7Hsh7\n",
      "\n",
      "And, honestly, a team in the office too. Working with remote folks is actually a lot worse from an office than when we’re all remote.\n",
      "\n",
      "No commute. Takes an hour each way on the Bart. Not enough seats to guarantee a place to sit and work. Faster to dr… https://t.co/gkzOZLrlZj\n",
      "\n",
      "@angustweets Absolutely. Have they done these on that baking show yet?\n",
      "\n",
      "(I don’t have a holiday tomorrow because fuck columbus, but the point stands)\n",
      "\n",
      "It’s cool that iPhone knows it might be a holiday tomorrow and suggested editing my alarm, but will it re-enable the alarm on tuesday?\n",
      "\n",
      "@jkup Never seen a Ghostbuster in England tho.\n",
      "\n",
      "RT @chenosaurus: Gonna be editing this tweet: https://t.co/BoLRtT5uzs\n",
      "\n",
      "https://t.co/rRfvsVivJt interesting.  The ID increments.\n",
      "\n",
      "@mattjbones … without video? You’re right. I shall record it next time.\n",
      "\n",
      "Woke up at 6am to the sound of something trying to crawl out of the shower drain. Glad I glued that down, but still might never sleep again.\n",
      "\n",
      "I assume Musk will let Twitter’s excellent legal team go, which would be a shame because historically they’ve done… https://t.co/XDvunaMOM0\n",
      "\n",
      "@cramforce Ok but maybe also add map to NodeList? https://t.co/pDAN7K0fFS\n",
      "\n",
      "Who likes puppies?… https://t.co/SWwhqghw0H\n",
      "\n",
      "@cramforce I rarely use it, now everything is react, which only means I forget and curse every time I realize.\n",
      "\n",
      "I spent five years at twitter trying to get one picture of a robot bird, ended up with a dog. This person has a new… https://t.co/VZLAtsECgD\n",
      "\n",
      "Where does @chancery_daily get their twitter bird images? Is this an AI thing or do they have an illustrator on staff?\n",
      "\n",
      "@nwthomas_ Just different. Still quality.\n",
      "\n",
      "Who wrote this episode? Completely different.\n",
      "\n",
      "@NolanOBrien @wongmjane &lt;turns up contrast&gt;\n",
      "&lt;turns up contrast&gt;\n",
      "&lt;turns up contrast&gt;\n",
      "\n",
      "sure\n",
      "\n",
      "@seldo I reckon he doesn’t want to lie under oath. 🤷‍♂️\n",
      "\n",
      "@wongmjane I don’t love that, but it makes sense: people are worried about correcting viral tweets doing numbers.\n",
      "\n",
      "@goldman I’m always amused to remember that they didn’t have digital cameras, so I have no idea how they sent that image home.\n",
      "\n",
      "The letter seems to add more requirements that Twitter doesn’t need to agree to: they already have a contract. I’m… https://t.co/QsCBWXg3WN\n",
      "\n",
      "The second is a result of external and internal factors. I’m sure good leaders could improve the internal factors,… https://t.co/1l7k8E44bo\n",
      "\n",
      "The two primary challenges are generally: integrating with existing engineering services, and constantly changing m… https://t.co/joqCAKmkVg\n",
      "\n",
      "Of course they did: ideas are plentiful; execution is the challenge. It seems like a massive active user base shoul… https://t.co/NP8lC3Raa1\n",
      "\n",
      "Twitter seems like a great place to start building. Look at the Chinese versions who’ve expanded into commerce and… https://t.co/4ipwJwLDuu\n",
      "\n",
      "@seldo It is shown in an episode of Friends and I would totally buy their solution for it.\n",
      "\n",
      "@iamharaldur Scale ambition.\n",
      "\n",
      "Maybe make emails editable next.\n",
      "\n",
      "@wongmjane I always think of green as mild, yes. (Based on US/UK, never been to Thailand)\n",
      "\n",
      "(apparently because he needs batteries to survive)\n",
      "\n",
      "Ok, I think he’s finally asleep now so I can just sneak out—\n",
      "“Do you know why Cyborg’s not really a good superhero?”\n",
      "\n",
      "@jondkoon Love these pixel graphics.\n",
      "\n",
      "@petefrasermusic I will concede that the cost of an iPhone has dropped since 1971.\n",
      "\n",
      "@petefrasermusic I just think those inflation calculators are bollocks. Like when they say inflation is 2% but your rent has doubled.\n",
      "\n",
      "@petefrasermusic Lol, ignoring everything else on that list, sure.\n",
      "\n",
      "@petefrasermusic Hmm https://t.co/zCDaP0vVHU\n",
      "\n",
      "@EricaJoy We have light bulbs with small batteries that turn on when there’s a power cut. Sometimes they do this.\n",
      "\n",
      "Expected to see more ex-VPs in the texts.\n",
      "\n",
      "@petefrasermusic Is this your Tony Clifton?\n",
      "\n",
      "@wongmjane But I think only Brits do this, which associates it with groups of arseholes so I’ve never actually called myself an expat.\n",
      "\n",
      "@wongmjane To me, I would call myself an expat because I’m from elsewhere, and I assume Americans would call me an… https://t.co/mvQgYV5XIg\n",
      "\n",
      "@igb I had wondered if that was the same guy or just the same name.\n",
      "\n",
      "“Super interesting idea” https://t.co/53DoKgsQPR https://t.co/qSM5em9fiG\n",
      "\n",
      "@skilldrick @chenosaurus 🗓️ 👀\n",
      "\n",
      "@skilldrick How well do you think the actual timeline maps back to all those original estimates?\n",
      "\n",
      "@isaach If the API supported Edit then you could make this real. Maybe I could use an app to sell the ability to edit/tweet from my account.\n",
      "\n",
      "@ericlaw Because many sites want you to upload a web-based receipt as a PDF, then sadly, yes.\n",
      "\n",
      "@joseeight Congrats on pushing this one through.\n",
      "\n",
      "@simonw Surprising.\n",
      "\n",
      "Mostly deer are silent, but if you listen closely you can hear this buck make a mewing noise. Sounds pretty silly,… https://t.co/8euYjPJsKB\n",
      "\n",
      "I mean, no, not really. I’d want to take my mortgage with me and just swap out the collateral. I’d also like to tak… https://t.co/wmKJsN8iN0\n",
      "\n",
      "@bengrue Are they auditioning for more hobbits?\n",
      "\n",
      "@44 @isaach *assuming all heads are equally productive\n",
      "\n",
      "It is hard to see how this ends well, and it doesn’t make anyone look good.\n",
      "\n",
      "Of course, that hurts people, so the government has dropped taxes and cut property sales tax. For “growth”.\n",
      "\n",
      "To com… https://t.co/yh0yJOJFp8\n",
      "\n",
      "Like the US, the UK has a problem with inflation. So the central bank increased rates to make borrowing more expens… https://t.co/p24n7R0eXT\n",
      "\n",
      "@skilldrick Ah, that’s a really good argument, especially for the tweet author. 🙌\n",
      "\n",
      "Exactly this. The wall and coming winter were unpredictable unknowns. In this new series, they don't even mention e… https://t.co/Ya39aAttrc\n",
      "\n",
      "@jondkoon I think @bigethan bringing the team together was also fundamental. The feature teams try to work ahead, i… https://t.co/I6d0ehYAO0\n",
      "\n",
      "@jayholler @igb Honestly tempting to replace the “15 years”. Maybe with “sales tax”.\n",
      "\n",
      "@replylord I suspected it was a cursor length issue but even then it’s hard to see why.\n",
      "\n",
      "@shinypb Could well be both!\n",
      "\n",
      "I can’t remember if it was a bad PM decision or a bizarre technical constraint.\n",
      "\n",
      "Tweet threads just stop loading with infinite scroll after a certain number of tweets and start showing replies. Can anyone recall why?\n",
      "\n",
      "@sayrer It’s literally two seconds of figuring it out that I will never get back.\n",
      "\n",
      "@nwthomas_ @blueapron 🤷‍♂️ You can just choose vegetarian as an option.\n",
      "\n",
      "@sayrer They don’t do that and it’s really confusing.\n",
      "\n",
      "It’s noticeable that @blueapron are cutting costs by increasingly going vegetarian. Any recommendations for an alternate?\n",
      "\n",
      "@ericlaw Because they list the answer as 404 instead of 410?\n",
      "\n",
      "@igb Super follow application got denied eh?\n",
      "\n",
      "@goldman If SF had a city-wide working shift, what do you reckon the hours would be? 11-4?\n",
      "\n",
      "@kathiepham If there’s a solution I’m all ears.\n",
      "\n",
      "@_ade Wow, that was only 7 years ago?\n",
      "\n",
      "@kathiepham Don’t think it matters for small dogs. They won’t stop for anything.\n",
      "\n",
      "@chimp1nski @ryanflorence To me this type generation is one of the defining qualities of graphql. I assume it’s what Ryan meant.\n",
      "\n",
      "@benward The photo is from Netflix. That’s what you reported. https://t.co/HZC8tm9Q3D\n",
      "\n",
      "@seldo If you're planning layoffs or business line closures, excessive perks and parties look bad.\n",
      "\n",
      "@petefrasermusic It's an interesting approach to have the government cutting taxes for growth, when your central ba… https://t.co/8Pns9u0R2X\n",
      "\n",
      "@petefrasermusic I’ve found news reporting of fluctuations to be complete nonsense. Often the market recovers by th… https://t.co/vCLa5gdxXv\n",
      "\n",
      "@pandemona This is just Google Body (2010), but in AR??\n",
      "\n",
      "@angustweets I assume it makes more sense if you look at it from the other side?\n",
      "\n",
      "I’m a terrible American because I have no idea what this means. It’s a land mass. https://t.co/zbYUEkaEeW\n",
      "\n",
      "@amdev No.\n",
      "\n",
      "I eat a fair amount of bacon. Some people forget or mishear my name and call me Kevin. So, 2. https://t.co/HLSgz06HvL\n",
      "\n",
      "@itszero OMG, is this for real? Always wanted to do that!\n",
      "\n",
      "@sayrer It's so annoying it's not even funny. I'm really tempted to put a perspex sheet between them.\n",
      "\n",
      "Is it a cold, is it flu? Is it allergies? Is it something else? Why can’t I test and find out, so I know whether I’… https://t.co/r3HDbHLHHB\n",
      "\n",
      "I’m a little annoyed that I can get a Covid test easily from Amazon them at tells me I don’t have Covid, which is c… https://t.co/C2fttWhmiQ\n",
      "\n",
      "@igb @SFBART I find the app can be more accurate than the boards.\n",
      "\n",
      "@sangster @bengrue Yeah this. I don’t make much money in England though, so I don’t worry about the double-tax problem. Just pay tax twice.\n",
      "\n",
      "I’m hoping they do DMV and UK taxes next.\n",
      "\n",
      "I’ve been using @peachypatients to pay some medical bills and it’s /so/ much nicer to just photo+ApplePay a bill in… https://t.co/bdMvxZEzbd\n",
      "\n",
      "@petefrasermusic Same. I don’t miss the kids doing school at home but I miss not getting school colds.\n",
      "\n",
      "@amdev It’s also good because it shows the chain doesn’t have to burn the planet. The only problem with chains now is their lack of utility.\n",
      "\n"
     ]
    }
   ],
   "source": [
    "tweets = extractor.user_timeline(screen_name=\"KPK\", count=1000)\n",
    "print(\"Tweets terambil: {}.\\n\".format(len(tweets)))\n",
    "\n",
    "\n",
    "print(\"5 tweet teratas:\\n\")\n",
    "for tweet in tweets[:100]:\n",
    "    print(tweet.text)\n",
    "    print()"
   ]
  },
  {
   "cell_type": "code",
   "execution_count": 22,
   "id": "b7728d5d",
   "metadata": {},
   "outputs": [
    {
     "data": {
      "text/html": [
       "<div>\n",
       "<style scoped>\n",
       "    .dataframe tbody tr th:only-of-type {\n",
       "        vertical-align: middle;\n",
       "    }\n",
       "\n",
       "    .dataframe tbody tr th {\n",
       "        vertical-align: top;\n",
       "    }\n",
       "\n",
       "    .dataframe thead th {\n",
       "        text-align: right;\n",
       "    }\n",
       "</style>\n",
       "<table border=\"1\" class=\"dataframe\">\n",
       "  <thead>\n",
       "    <tr style=\"text-align: right;\">\n",
       "      <th></th>\n",
       "      <th>Tweets</th>\n",
       "    </tr>\n",
       "  </thead>\n",
       "  <tbody>\n",
       "    <tr>\n",
       "      <th>0</th>\n",
       "      <td>@_jayphelps I often type “copy(“ +paste +”)”</td>\n",
       "    </tr>\n",
       "    <tr>\n",
       "      <th>1</th>\n",
       "      <td>@chenosaurus @skilldrick @mrdonut Looking for ...</td>\n",
       "    </tr>\n",
       "    <tr>\n",
       "      <th>2</th>\n",
       "      <td>I have the boy at home today. Can anyone recom...</td>\n",
       "    </tr>\n",
       "    <tr>\n",
       "      <th>3</th>\n",
       "      <td>@samuelmaskell It has to come back at some poi...</td>\n",
       "    </tr>\n",
       "    <tr>\n",
       "      <th>4</th>\n",
       "      <td>@petefrasermusic That’s because sending alcoho...</td>\n",
       "    </tr>\n",
       "    <tr>\n",
       "      <th>5</th>\n",
       "      <td>And a shower in the office so I can go for a l...</td>\n",
       "    </tr>\n",
       "    <tr>\n",
       "      <th>6</th>\n",
       "      <td>And, honestly, a team in the office too. Worki...</td>\n",
       "    </tr>\n",
       "    <tr>\n",
       "      <th>7</th>\n",
       "      <td>No commute. Takes an hour each way on the Bart...</td>\n",
       "    </tr>\n",
       "    <tr>\n",
       "      <th>8</th>\n",
       "      <td>@angustweets Absolutely. Have they done these ...</td>\n",
       "    </tr>\n",
       "    <tr>\n",
       "      <th>9</th>\n",
       "      <td>(I don’t have a holiday tomorrow because fuck ...</td>\n",
       "    </tr>\n",
       "  </tbody>\n",
       "</table>\n",
       "</div>"
      ],
      "text/plain": [
       "                                              Tweets\n",
       "0       @_jayphelps I often type “copy(“ +paste +”)”\n",
       "1  @chenosaurus @skilldrick @mrdonut Looking for ...\n",
       "2  I have the boy at home today. Can anyone recom...\n",
       "3  @samuelmaskell It has to come back at some poi...\n",
       "4  @petefrasermusic That’s because sending alcoho...\n",
       "5  And a shower in the office so I can go for a l...\n",
       "6  And, honestly, a team in the office too. Worki...\n",
       "7  No commute. Takes an hour each way on the Bart...\n",
       "8  @angustweets Absolutely. Have they done these ...\n",
       "9  (I don’t have a holiday tomorrow because fuck ..."
      ]
     },
     "metadata": {},
     "output_type": "display_data"
    }
   ],
   "source": [
    "# Kita dapat membuat kerangka data sebagai berikut:\n",
    "dataset = pd.DataFrame(data=[tweet.text for tweet in tweets], columns=['Tweets'])\n",
    "\n",
    "# Kami membuat tampilan kerangka data:\n",
    "display(dataset.head(10))"
   ]
  },
  {
   "cell_type": "code",
   "execution_count": 23,
   "id": "014b58fd",
   "metadata": {},
   "outputs": [
    {
     "name": "stdout",
     "output_type": "stream",
     "text": [
      "['__class__', '__delattr__', '__dict__', '__dir__', '__doc__', '__eq__', '__format__', '__ge__', '__getattribute__', '__getstate__', '__gt__', '__hash__', '__init__', '__init_subclass__', '__le__', '__lt__', '__module__', '__ne__', '__new__', '__reduce__', '__reduce_ex__', '__repr__', '__setattr__', '__sizeof__', '__slots__', '__str__', '__subclasshook__', '__weakref__', '_api', '_json', 'author', 'contributors', 'coordinates', 'created_at', 'destroy', 'entities', 'favorite', 'favorite_count', 'favorited', 'geo', 'id', 'id_str', 'in_reply_to_screen_name', 'in_reply_to_status_id', 'in_reply_to_status_id_str', 'in_reply_to_user_id', 'in_reply_to_user_id_str', 'is_quote_status', 'lang', 'parse', 'parse_list', 'place', 'retweet', 'retweet_count', 'retweeted', 'retweets', 'source', 'source_url', 'text', 'truncated', 'user']\n"
     ]
    }
   ],
   "source": [
    "print(dir(tweets[0]))"
   ]
  },
  {
   "cell_type": "code",
   "execution_count": 24,
   "id": "0115323e",
   "metadata": {},
   "outputs": [
    {
     "name": "stdout",
     "output_type": "stream",
     "text": [
      "1579663272881848320\n",
      "2022-10-11 02:40:47+00:00\n",
      "Twitter Web App\n",
      "2\n",
      "0\n",
      "None\n",
      "None\n",
      "{'hashtags': [], 'symbols': [], 'user_mentions': [{'screen_name': '_jayphelps', 'name': '👉😎👉 Jay Phelps', 'id': 29961025, 'id_str': '29961025', 'indices': [0, 11]}], 'urls': []}\n"
     ]
    }
   ],
   "source": [
    "print(tweets[0].id)\n",
    "print(tweets[0].created_at)\n",
    "print(tweets[0].source)\n",
    "print(tweets[0].favorite_count)\n",
    "print(tweets[0].retweet_count)\n",
    "print(tweets[0].geo)\n",
    "print(tweets[0].coordinates)\n",
    "print(tweets[0].entities)"
   ]
  },
  {
   "cell_type": "code",
   "execution_count": 25,
   "id": "c0a53984",
   "metadata": {},
   "outputs": [],
   "source": [
    "dataset['len'] = np.array([len(tweet.text) for tweet in tweets])\n",
    "dataset['ID']  = np.array([tweet.id for tweet in tweets])\n",
    "dataset['Created'] = np.array([tweet.created_at for tweet in tweets])\n",
    "dataset['Source'] = np.array([tweet.source for tweet in tweets])\n",
    "dataset['Likes']  = np.array([tweet.favorite_count for tweet in tweets])\n",
    "dataset['RTs']    = np.array([tweet.retweet_count for tweet in tweets])"
   ]
  },
  {
   "cell_type": "code",
   "execution_count": 26,
   "id": "016b3a85",
   "metadata": {},
   "outputs": [
    {
     "data": {
      "text/html": [
       "<div>\n",
       "<style scoped>\n",
       "    .dataframe tbody tr th:only-of-type {\n",
       "        vertical-align: middle;\n",
       "    }\n",
       "\n",
       "    .dataframe tbody tr th {\n",
       "        vertical-align: top;\n",
       "    }\n",
       "\n",
       "    .dataframe thead th {\n",
       "        text-align: right;\n",
       "    }\n",
       "</style>\n",
       "<table border=\"1\" class=\"dataframe\">\n",
       "  <thead>\n",
       "    <tr style=\"text-align: right;\">\n",
       "      <th></th>\n",
       "      <th>Tweets</th>\n",
       "      <th>len</th>\n",
       "      <th>ID</th>\n",
       "      <th>Created</th>\n",
       "      <th>Source</th>\n",
       "      <th>Likes</th>\n",
       "      <th>RTs</th>\n",
       "    </tr>\n",
       "  </thead>\n",
       "  <tbody>\n",
       "    <tr>\n",
       "      <th>0</th>\n",
       "      <td>@_jayphelps I often type “copy(“ +paste +”)”</td>\n",
       "      <td>44</td>\n",
       "      <td>1579663272881848320</td>\n",
       "      <td>2022-10-11 02:40:47+00:00</td>\n",
       "      <td>Twitter Web App</td>\n",
       "      <td>2</td>\n",
       "      <td>0</td>\n",
       "    </tr>\n",
       "    <tr>\n",
       "      <th>1</th>\n",
       "      <td>@chenosaurus @skilldrick @mrdonut Looking for ...</td>\n",
       "      <td>98</td>\n",
       "      <td>1579531424432271361</td>\n",
       "      <td>2022-10-10 17:56:52+00:00</td>\n",
       "      <td>Twitter Web App</td>\n",
       "      <td>0</td>\n",
       "      <td>0</td>\n",
       "    </tr>\n",
       "    <tr>\n",
       "      <th>2</th>\n",
       "      <td>I have the boy at home today. Can anyone recom...</td>\n",
       "      <td>140</td>\n",
       "      <td>1579514885163347970</td>\n",
       "      <td>2022-10-10 16:51:09+00:00</td>\n",
       "      <td>Twitter Web App</td>\n",
       "      <td>2</td>\n",
       "      <td>0</td>\n",
       "    </tr>\n",
       "    <tr>\n",
       "      <th>3</th>\n",
       "      <td>@samuelmaskell It has to come back at some poi...</td>\n",
       "      <td>119</td>\n",
       "      <td>1579288847309213696</td>\n",
       "      <td>2022-10-10 01:52:57+00:00</td>\n",
       "      <td>Twitter Web App</td>\n",
       "      <td>3</td>\n",
       "      <td>0</td>\n",
       "    </tr>\n",
       "    <tr>\n",
       "      <th>4</th>\n",
       "      <td>@petefrasermusic That’s because sending alcoho...</td>\n",
       "      <td>106</td>\n",
       "      <td>1579238130296594433</td>\n",
       "      <td>2022-10-09 22:31:25+00:00</td>\n",
       "      <td>Twitter Web App</td>\n",
       "      <td>1</td>\n",
       "      <td>0</td>\n",
       "    </tr>\n",
       "  </tbody>\n",
       "</table>\n",
       "</div>"
      ],
      "text/plain": [
       "                                              Tweets  len  \\\n",
       "0       @_jayphelps I often type “copy(“ +paste +”)”   44   \n",
       "1  @chenosaurus @skilldrick @mrdonut Looking for ...   98   \n",
       "2  I have the boy at home today. Can anyone recom...  140   \n",
       "3  @samuelmaskell It has to come back at some poi...  119   \n",
       "4  @petefrasermusic That’s because sending alcoho...  106   \n",
       "\n",
       "                    ID                   Created           Source  Likes  RTs  \n",
       "0  1579663272881848320 2022-10-11 02:40:47+00:00  Twitter Web App      2    0  \n",
       "1  1579531424432271361 2022-10-10 17:56:52+00:00  Twitter Web App      0    0  \n",
       "2  1579514885163347970 2022-10-10 16:51:09+00:00  Twitter Web App      2    0  \n",
       "3  1579288847309213696 2022-10-10 01:52:57+00:00  Twitter Web App      3    0  \n",
       "4  1579238130296594433 2022-10-09 22:31:25+00:00  Twitter Web App      1    0  "
      ]
     },
     "execution_count": 26,
     "metadata": {},
     "output_type": "execute_result"
    }
   ],
   "source": [
    "dataset.head()"
   ]
  },
  {
   "cell_type": "code",
   "execution_count": 27,
   "id": "cf618777",
   "metadata": {},
   "outputs": [
    {
     "name": "stdout",
     "output_type": "stream",
     "text": [
      "Jumlah rata-rata karakter di tweet: 93.88205128205128\n"
     ]
    }
   ],
   "source": [
    "# extract rata-rata:\n",
    "media = np.mean(dataset['len'])\n",
    "\n",
    "print(\"Jumlah rata-rata karakter di tweet: {}\".format(media))"
   ]
  },
  {
   "cell_type": "code",
   "execution_count": 28,
   "id": "f72e9808",
   "metadata": {},
   "outputs": [
    {
     "name": "stdout",
     "output_type": "stream",
     "text": [
      "Tweet yang paling banyak disukai adalah: \n",
      "Added some more lights to the backyard. Really makes a difference. https://t.co/Sf6Chdymqz\n",
      "Jumlah suka: 31\n",
      "90 Characters.\n",
      "\n"
     ]
    }
   ],
   "source": [
    "# Kami mengekstrak tweet dengan FAV paling banyak dan dengan RT terbanyak:\n",
    "\n",
    "fav_max = np.max(dataset['Likes'])\n",
    "rt_max  = np.max(dataset['RTs'])\n",
    "\n",
    "fav = dataset[dataset.Likes == fav_max].index[0]\n",
    "rt  = dataset[dataset.RTs == rt_max].index[0]\n",
    "\n",
    "# Max FAVs:\n",
    "print(\"Tweet yang paling banyak disukai adalah: \\n{}\".format(dataset['Tweets'][fav]))\n",
    "print(\"Jumlah suka: {}\".format(fav_max))\n",
    "print(\"{} Characters.\\n\".format(dataset['len'][fav]))"
   ]
  },
  {
   "cell_type": "code",
   "execution_count": 29,
   "id": "e5cc7ed9",
   "metadata": {},
   "outputs": [
    {
     "name": "stdout",
     "output_type": "stream",
     "text": [
      "Tweet dengan retweet terbanyak adalah: \n",
      "RT @ErrataRob: I take pretty much the opposite view as the rest of the infosec community on this Mudge vs. Twitter affair.\n",
      "https://t.co/Oi5…\n",
      "Jumlah retweet: 27\n",
      "140 Characters.\n",
      "\n"
     ]
    }
   ],
   "source": [
    "# Max RTs:\n",
    "print(\"Tweet dengan retweet terbanyak adalah: \\n{}\".format(dataset['Tweets'][rt]))\n",
    "print(\"Jumlah retweet: {}\".format(rt_max))\n",
    "print(\"{} Characters.\\n\".format(dataset['len'][rt]))"
   ]
  },
  {
   "cell_type": "code",
   "execution_count": 30,
   "id": "565c3ce7",
   "metadata": {},
   "outputs": [],
   "source": [
    "tlen = pd.Series(data=dataset['len'].values, index=dataset['Created'])\n",
    "tfav = pd.Series(data=dataset['Likes'].values, index=dataset['Created'])\n",
    "tret = pd.Series(data=dataset['RTs'].values, index=dataset['Created'])"
   ]
  },
  {
   "cell_type": "code",
   "execution_count": 31,
   "id": "103c23b6",
   "metadata": {},
   "outputs": [
    {
     "data": {
      "image/png": "[encoded data removed]",
      "text/plain": [
       "<Figure size 1152x288 with 1 Axes>"
      ]
     },
     "metadata": {
      "needs_background": "light"
     },
     "output_type": "display_data"
    }
   ],
   "source": [
    "tlen.plot(figsize=(16,4), color='r');"
   ]
  },
  {
   "cell_type": "code",
   "execution_count": 32,
   "id": "8ba28fbc",
   "metadata": {},
   "outputs": [
    {
     "data": {
      "image/png": "[encoded data removed]",
      "text/plain": [
       "<Figure size 1152x288 with 1 Axes>"
      ]
     },
     "metadata": {
      "needs_background": "light"
     },
     "output_type": "display_data"
    }
   ],
   "source": [
    "tfav.plot(figsize=(16,4), label=\"Likes\", legend=True)\n",
    "tret.plot(figsize=(16,4), label=\"Retweets\", legend=True);"
   ]
  },
  {
   "cell_type": "code",
   "execution_count": 33,
   "id": "b748d0db",
   "metadata": {},
   "outputs": [
    {
     "name": "stdout",
     "output_type": "stream",
     "text": [
      "Sumber pembuatan konten:\n",
      "* Twitter Web App\n"
     ]
    }
   ],
   "source": [
    "sources = []\n",
    "for source in dataset['Source']:\n",
    "    if source not in sources:\n",
    "        sources.append(source)\n",
    "\n",
    "# pembuatan:\n",
    "print(\"Sumber pembuatan konten:\")\n",
    "for source in sources:\n",
    "    print(\"* {}\".format(source))"
   ]
  },
  {
   "cell_type": "code",
   "execution_count": 34,
   "id": "1a046d5e",
   "metadata": {},
   "outputs": [
    {
     "data": {
      "image/png": "[encoded data removed]",
      "text/plain": [
       "<Figure size 432x432 with 1 Axes>"
      ]
     },
     "metadata": {},
     "output_type": "display_data"
    }
   ],
   "source": [
    "percent = np.zeros(len(sources))\n",
    "\n",
    "for source in dataset['Source']:\n",
    "    for index in range(len(sources)):\n",
    "        if source == sources[index]:\n",
    "            percent[index] += 1\n",
    "            pass\n",
    "\n",
    "percent /= 100\n",
    "\n",
    "# Pie chart:\n",
    "pie_chart = pd.Series(percent, index=sources, name='Sources')\n",
    "pie_chart.plot.pie(fontsize=11, autopct='%.2f', figsize=(6, 6));"
   ]
  },
  {
   "cell_type": "code",
   "execution_count": 35,
   "id": "f8698084",
   "metadata": {},
   "outputs": [],
   "source": [
    "dataset.to_csv('dataset_user.csv',sep=';')"
   ]
  },
  {
   "cell_type": "code",
   "execution_count": null,
   "id": "d3f1c7aa",
   "metadata": {},
   "outputs": [],
   "source": []
  }
 ],
 "metadata": {
  "kernelspec": {
   "display_name": "Python 3 (ipykernel)",
   "language": "python",
   "name": "python3"
  },
  "language_info": {
   "codemirror_mode": {
    "name": "ipython",
    "version": 3
   },
   "file_extension": ".py",
   "mimetype": "text/x-python",
   "name": "python",
   "nbconvert_exporter": "python",
   "pygments_lexer": "ipython3",
   "version": "3.9.12"
  }
 },
 "nbformat": 4,
 "nbformat_minor": 5
}
